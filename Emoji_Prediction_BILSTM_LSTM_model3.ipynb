{
 "cells": [
  {
   "cell_type": "code",
   "execution_count": null,
   "metadata": {
    "collapsed": false
   },
   "outputs": [],
   "source": [
    "import numpy as np\n",
    "import pandas as pd\n",
    "import re"
   ]
  },
  {
   "cell_type": "code",
   "execution_count": null,
   "metadata": {
    "collapsed": true
   },
   "outputs": [],
   "source": [
    "train_filename = 'data/data/5_train'\n",
    "test_filename = 'data/data/5_test'\n",
    "val_filename = 'data/data/5_validation'"
   ]
  },
  {
   "cell_type": "code",
   "execution_count": null,
   "metadata": {
    "collapsed": false
   },
   "outputs": [],
   "source": [
    "def read_file(filename):\n",
    "    tweet, emoji = list(), list()\n",
    "    dummy_df = pd.DataFrame()\n",
    "    with open(filename, 'r') as file:\n",
    "        for line in file:\n",
    "            t, e = line.strip('\\n').split('\\t')\n",
    "            tweet.append(t)\n",
    "            emoji.append(e)\n",
    "    dummy_df['Tweet'] = tweet\n",
    "    dummy_df['Emoji'] = emoji\n",
    "    return dummy_df\n",
    "\n",
    "df = read_file(train_filename)\n",
    "df.head()"
   ]
  },
  {
   "cell_type": "code",
   "execution_count": null,
   "metadata": {
    "collapsed": false
   },
   "outputs": [],
   "source": [
    "len(df.Emoji.unique()), df.shape"
   ]
  },
  {
   "cell_type": "code",
   "execution_count": null,
   "metadata": {
    "collapsed": false
   },
   "outputs": [],
   "source": [
    "for i in range(5):\n",
    "    tweet = df.Tweet[i]\n",
    "    tokens = re.sub('[!\\.#\\'\\\",:?(){}<>;\\@/|=]', '', tweet)\n",
    "    tokens = re.sub('[_-]', ' ', tokens)\n",
    "    tokens = re.sub('user', ' <user> ', tokens)\n",
    "    tokens = re.sub('&+', 'and', tokens)\n",
    "    tokens = re.sub('\\d+', ' <num> ', tokens)\n",
    "    tokens = tokens.split()\n",
    "    print(tokens); print(tweet); print()"
   ]
  },
  {
   "cell_type": "code",
   "execution_count": null,
   "metadata": {
    "collapsed": true
   },
   "outputs": [],
   "source": [
    "def tokenize(tweet):\n",
    "    tokens = re.sub('[!\\.#\\'\\\",:?(){}<>;\\@/|=$%^*]', '', tweet)\n",
    "    tokens = re.sub('[_-]', ' ', tokens)\n",
    "    tokens = re.sub('user', ' <user> ', tokens)\n",
    "    tokens = re.sub('&+', 'and', tokens)\n",
    "    tokens = re.sub('\\d+', ' <num> ', tokens)\n",
    "    tokens = tokens.split()\n",
    "    return tokens"
   ]
  },
  {
   "cell_type": "code",
   "execution_count": null,
   "metadata": {
    "collapsed": true
   },
   "outputs": [],
   "source": [
    "words = list()\n",
    "for tweet in df.Tweet:\n",
    "    for word in tokenize(tweet):\n",
    "        words.append(word)"
   ]
  },
  {
   "cell_type": "code",
   "execution_count": null,
   "metadata": {
    "collapsed": false
   },
   "outputs": [],
   "source": [
    "unique_words = list(set(words))\n",
    "print(len(words), len(unique_words))"
   ]
  },
  {
   "cell_type": "code",
   "execution_count": null,
   "metadata": {
    "collapsed": true
   },
   "outputs": [],
   "source": [
    "word_to_index = {k:v+1 for v, k in enumerate(unique_words)}\n",
    "word_to_index['<unk>'] = 0"
   ]
  },
  {
   "cell_type": "code",
   "execution_count": null,
   "metadata": {
    "collapsed": false
   },
   "outputs": [],
   "source": [
    "word_to_index['<unk>'], word_to_index['<num>'], word_to_index['<user>']"
   ]
  },
  {
   "cell_type": "code",
   "execution_count": null,
   "metadata": {
    "collapsed": false
   },
   "outputs": [],
   "source": [
    "from nltk.probability import FreqDist\n",
    "dist = FreqDist(words)\n",
    "rare_words = [word for word in unique_words if dist[word] == 1]; len(rare_words)\n",
    "print(rare_words[0:50])"
   ]
  },
  {
   "cell_type": "code",
   "execution_count": null,
   "metadata": {
    "collapsed": true
   },
   "outputs": [],
   "source": [
    "def indexify(tweet):\n",
    "    indexes = list()\n",
    "    for word in tweet:\n",
    "        try:\n",
    "            indexes.append(word_to_index[word])\n",
    "        except KeyError:\n",
    "            indexes.append(0)\n",
    "    return indexes"
   ]
  },
  {
   "cell_type": "code",
   "execution_count": null,
   "metadata": {
    "collapsed": false
   },
   "outputs": [],
   "source": [
    "from sklearn.preprocessing import LabelEncoder\n",
    "le = LabelEncoder()\n",
    "le.fit(df.Emoji.values)\n",
    "\n",
    "df.Emoji = le.transform(df.Emoji.values)\n",
    "df['indexed_tweets'] = df.Tweet.apply(lambda x: tokenize(x))\n",
    "df['indexed_tweets'] = df.indexed_tweets.apply(lambda x: indexify(x))\n",
    "df.head()"
   ]
  },
  {
   "cell_type": "code",
   "execution_count": null,
   "metadata": {
    "collapsed": false
   },
   "outputs": [],
   "source": [
    "val_df = read_file(val_filename); val_df.head()"
   ]
  },
  {
   "cell_type": "code",
   "execution_count": null,
   "metadata": {
    "collapsed": false
   },
   "outputs": [],
   "source": [
    "val_df.shape"
   ]
  },
  {
   "cell_type": "code",
   "execution_count": null,
   "metadata": {
    "collapsed": false
   },
   "outputs": [],
   "source": [
    "val_df.Emoji = le.transform(val_df.Emoji.values)\n",
    "val_df['indexed_tweets'] = val_df.Tweet.apply(lambda x: tokenize(x))\n",
    "val_df['indexed_tweets'] = val_df.indexed_tweets.apply(lambda x: indexify(x))\n",
    "val_df.head()"
   ]
  },
  {
   "cell_type": "code",
   "execution_count": null,
   "metadata": {
    "collapsed": true
   },
   "outputs": [],
   "source": [
    "max_length = 35\n",
    "embedding_vector_length = 100"
   ]
  },
  {
   "cell_type": "code",
   "execution_count": null,
   "metadata": {
    "collapsed": true
   },
   "outputs": [],
   "source": [
    "x_train = df.indexed_tweets.values\n",
    "x_val = val_df.indexed_tweets.values\n",
    "y_train = df.Emoji.values\n",
    "y_val = val_df.Emoji.values"
   ]
  },
  {
   "cell_type": "code",
   "execution_count": null,
   "metadata": {
    "collapsed": false
   },
   "outputs": [],
   "source": [
    "from keras.preprocessing import sequence\n",
    "from keras.utils.np_utils import to_categorical\n",
    "\n",
    "x_train = sequence.pad_sequences(x_train, maxlen=max_length)\n",
    "x_val = sequence.pad_sequences(x_val, maxlen=max_length)\n",
    "\n",
    "y_train = to_categorical(y_train)\n",
    "y_val = to_categorical(y_val)"
   ]
  },
  {
   "cell_type": "code",
   "execution_count": null,
   "metadata": {
    "collapsed": false
   },
   "outputs": [],
   "source": [
    "from keras.layers import GRU, Dropout, Embedding, Dense, Bidirectional, LSTM\n",
    "from keras.models import Sequential\n",
    "from keras.losses import categorical_crossentropy\n",
    "from keras.metrics import categorical_accuracy\n",
    "\n",
    "model = Sequential()\n",
    "model.add(Embedding(len(unique_words)+1, embedding_vector_length, input_length=max_length))\n",
    "model.add(Dropout(0.2))\n",
    "model.add(Bidirectional(LSTM(64, return_sequences=True)))\n",
    "model.add(LSTM(64))\n",
    "model.add(Dropout(0.5))\n",
    "model.add(Dense(5, activation='softmax'))\n",
    "\n",
    "model.compile(loss=categorical_crossentropy, optimizer='adam', metrics=[categorical_accuracy])\n",
    "\n",
    "model.fit(x_train, y_train, validation_data=(x_val, y_val), epochs=3, batch_size=512)"
   ]
  },
  {
   "cell_type": "code",
   "execution_count": null,
   "metadata": {
    "collapsed": false
   },
   "outputs": [],
   "source": [
    "test_df = read_file(test_filename); test_df.head()"
   ]
  },
  {
   "cell_type": "code",
   "execution_count": null,
   "metadata": {
    "collapsed": false
   },
   "outputs": [],
   "source": [
    "test_df.shape"
   ]
  },
  {
   "cell_type": "code",
   "execution_count": null,
   "metadata": {
    "collapsed": false
   },
   "outputs": [],
   "source": [
    "test_df.Emoji = le.transform(test_df.Emoji.values)\n",
    "test_df['indexed_tweets'] = test_df.Tweet.apply(lambda x: tokenize(x))\n",
    "test_df['indexed_tweets'] = test_df.indexed_tweets.apply(lambda x: indexify(x))\n",
    "test_df.head()"
   ]
  },
  {
   "cell_type": "code",
   "execution_count": null,
   "metadata": {
    "collapsed": false
   },
   "outputs": [],
   "source": [
    "x_test = sequence.pad_sequences(test_df.indexed_tweets.values, maxlen=max_length)\n",
    "x_test.shape"
   ]
  },
  {
   "cell_type": "code",
   "execution_count": null,
   "metadata": {
    "collapsed": true
   },
   "outputs": [],
   "source": [
    "pred = np.argmax(model.predict(x_test), axis=1)"
   ]
  },
  {
   "cell_type": "code",
   "execution_count": null,
   "metadata": {
    "collapsed": false
   },
   "outputs": [],
   "source": [
    "from sklearn.metrics import accuracy_score\n",
    "print(accuracy_score(test_df.Emoji.values, pred))"
   ]
  },
  {
   "cell_type": "code",
   "execution_count": null,
   "metadata": {
    "collapsed": false
   },
   "outputs": [],
   "source": [
    "from sklearn.metrics import confusion_matrix\n",
    "import itertools\n",
    "import matplotlib.pyplot as plt\n",
    "#confusion_matrix(test_df.Emoji.values, pred)\n",
    "def plot_confusion_matrix(cm, #classes,\n",
    "                          #normalize=False,\n",
    "                          title='Confusion matrix',\n",
    "                          cmap=plt.cm.Blues):\n",
    "\n",
    "    plt.imshow(cm, interpolation='nearest', cmap=cmap)\n",
    "    plt.title(title)\n",
    "    plt.colorbar()\n",
    "    tick_marks = np.arange(5)\n",
    "    plt.xticks(tick_marks)\n",
    "    plt.yticks(tick_marks)\n",
    "\n",
    "    fmt = 'd'\n",
    "    thresh = cm.max() / 2.\n",
    "    for i, j in itertools.product(range(cm.shape[0]), range(cm.shape[1])):\n",
    "        plt.text(j, i, format(cm[i, j], fmt),\n",
    "                 horizontalalignment=\"center\",\n",
    "                 color=\"white\" if cm[i, j] > thresh else \"black\")\n",
    "\n",
    "    plt.tight_layout()\n",
    "    plt.ylabel('True label')\n",
    "    plt.xlabel('Predicted label')\n",
    "\n",
    "# Compute confusion matrix\n",
    "cnf_matrix = confusion_matrix(test_df.Emoji.values, pred)\n",
    "np.set_printoptions(precision=2)\n",
    "\n",
    "# Plot non-normalized confusion matrix\n",
    "plt.figure()\n",
    "plot_confusion_matrix(cnf_matrix, #classes=class_names,\n",
    "                      title='Confusion matrix, without normalization')\n",
    "\n",
    "plt.show()"
   ]
  },
  {
   "cell_type": "code",
   "execution_count": null,
   "metadata": {
    "collapsed": false,
    "scrolled": true
   },
   "outputs": [],
   "source": [
    "from sklearn.metrics import precision_recall_fscore_support\n",
    "precision, recall, f1_score, support = precision_recall_fscore_support(test_df.Emoji.values, pred, average='weighted')\n",
    "print(\"precision: \", precision)\n",
    "print('recall: ', recall)\n",
    "print('f1_score: ', f1_score)"
   ]
  },
  {
   "cell_type": "code",
   "execution_count": null,
   "metadata": {
    "collapsed": true
   },
   "outputs": [],
   "source": []
  }
 ],
 "metadata": {
  "kernelspec": {
   "display_name": "Python 3",
   "language": "python",
   "name": "python3"
  },
  "language_info": {
   "codemirror_mode": {
    "name": "ipython",
    "version": 3
   },
   "file_extension": ".py",
   "mimetype": "text/x-python",
   "name": "python",
   "nbconvert_exporter": "python",
   "pygments_lexer": "ipython3",
   "version": "3.6.0"
  }
 },
 "nbformat": 4,
 "nbformat_minor": 2
}
